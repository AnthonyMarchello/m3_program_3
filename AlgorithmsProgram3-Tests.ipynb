{
 "cells": [
  {
   "cell_type": "raw",
   "id": "53ccda27",
   "metadata": {
    "vscode": {
     "languageId": "raw"
    }
   },
   "source": [
    "For this assignment, you will apply dynamic programming to create an algorithm that solves\n",
    "the maximal substring problem.\n",
    "\n",
    "The problem that you will be solving is called the MAXIMALSUBSTRING problem."
   ]
  },
  {
   "cell_type": "code",
   "execution_count": 1,
   "id": "bb3a18ee",
   "metadata": {},
   "outputs": [],
   "source": [
    "def substring_helper(a, b, i, j, memo):\n",
    "    if i == 0 or j == 0:\n",
    "        return 0\n",
    "\n",
    "    if memo[i][j] != -1:\n",
    "        return memo[i][j]\n",
    "\n",
    "    if a[i - 1] == b[j - 1]:\n",
    "        memo[i][j] = 1 + substring_helper(a, b, i - 1, j - 1, memo)\n",
    "\n",
    "    return memo[i][j]\n",
    "\n",
    "\n",
    "def maximal_substring(a, b):\n",
    "    rows = len(a) + 1\n",
    "    cols = len(b) + 1\n",
    "    memo = [[-1 for _ in range(cols)] for _ in range(rows)]\n",
    "    max_length = 0\n",
    "    end_index = 0\n",
    "    \n",
    "    for i in range(1, rows):\n",
    "        for j in range(1, cols):\n",
    "            current_length = substring_helper(a, b, i, j, memo)\n",
    "            if current_length > max_length:\n",
    "                max_length = current_length\n",
    "                end_index = i\n",
    "\n",
    "    return a[end_index - max_length:end_index]\n"
   ]
  },
  {
   "cell_type": "markdown",
   "id": "b40456f9-c101-4654-888e-61d9a83710c7",
   "metadata": {},
   "source": [
    "#### **Tests**"
   ]
  },
  {
   "cell_type": "code",
   "execution_count": 6,
   "id": "b5219ba9-a038-49e9-8860-e035f8c78ec1",
   "metadata": {},
   "outputs": [
    {
     "name": "stdout",
     "output_type": "stream",
     "text": [
      "\u001b[32mTest case 1 passed!\u001b[0m\n",
      "\u001b[32mTest case 2 passed!\u001b[0m\n",
      "\u001b[32mTest case 3 passed!\u001b[0m\n",
      "\u001b[32mTest case 4 passed!\u001b[0m\n",
      "\u001b[32mTest case 5 passed!\u001b[0m\n",
      "\u001b[31mTest case 6 failed: got '', expected 'a'\u001b[0m\n",
      "\u001b[32mTest case 7 passed!\u001b[0m\n",
      "\u001b[32mTest case 8 passed!\u001b[0m\n",
      "\u001b[32mTest case 9 passed!\u001b[0m\n",
      "\u001b[32mTest case 10 passed!\u001b[0m\n",
      "\u001b[32mTest case 11 passed!\u001b[0m\n",
      "\u001b[32mTest case 12 passed!\u001b[0m\n",
      "\u001b[31mTest case 13 failed: got 'llo', expected 'ello'\u001b[0m\n",
      "\u001b[32mTest case 14 passed!\u001b[0m\n",
      "\u001b[32mTest case 15 passed!\u001b[0m\n",
      "\u001b[32mTest case 16 passed!\u001b[0m\n",
      "\u001b[31mTest case 17 failed: got 'pple', expected 'apple'\u001b[0m\n",
      "\u001b[32mTest case 18 passed!\u001b[0m\n",
      "\u001b[31mTest case 19 failed: got 'orematch', expected 'corematch'\u001b[0m\n",
      "\u001b[32mTest case 20 passed!\u001b[0m\n",
      "\u001b[32mTest case 21 passed!\u001b[0m\n",
      "\u001b[32mTest case 22 passed!\u001b[0m\n",
      "\u001b[32mTest case 23 passed!\u001b[0m\n"
     ]
    }
   ],
   "source": [
    "from termcolor import colored\n",
    "\n",
    "test_cases = [\n",
    "    (\"hello\", \"hello\", \"hello\"), # 1. Simple identical strings\n",
    "    (\"\", \"banana\", \"\"), # 2. One empty string\n",
    "    (\"apple\", \"\", \"\"), # 3. One empty string (cont.)\n",
    "    (\"\", \"\", \"\"), # 4. Both strings empty \n",
    "    (\"xyz\", \"abc\", \"\"), # 5. No common characters\n",
    "    (\"xayz\", \"baz\", \"a\"), # 6. One-character match\n",
    "    (\"hellothere\", \"lo\", \"lo\"), # 7. Full overlap inside\n",
    "    (\"abc\", \"zabcx\", \"abc\"), # 8. Entire string as substring\n",
    "    (\"abcabcabc\", \"abcabc\", \"abcabc\"), # 9. Repeated patterns\n",
    "    (\"aabbaabb\", \"bbaabbaa\", \"aabbaa\"), # 10. Multiple common substrings, longest chosen\n",
    "    (\"💡✨🎉\", \"🎉🔥💡\", \"💡\"), # 11. Unicode characters\n",
    "    (\"🎈abc🎈\", \"🎈abc\", \"🎈abc\"), # 12. Unicode with alphabet\n",
    "    (\"Hello\", \"hello\", \"ello\"), # 13. Case sensitivity (eliminate test case possibly)\n",
    "    (\"prefix_common_sub\", \"prefix_common_end\", \"prefix_common_\"), # 14. Long common prefix\n",
    "    (\"end_common\", \"otherend_common\", \"end_common\"), # 15. Long common suffix\n",
    "    (\"a\" * 1000, \"a\" * 1000, \"a\" * 1000), # 16. Very large identical strings\n",
    "    (\"x\" * 2500 + \"apple\" + \"y\" * 2500, \"z\" * 2500 + \"apple\" + \"w\" * 2500, \"apple\"), # 17. Large strings, small common part\n",
    "    (\"aaaaaaaaaa\", \"aaaa\", \"aaaa\"), # 18. One character repeated\n",
    "    (\"x\" * 5000 + \"corematch\" + \"y\" * 5000, \"z\" * 5000 + \"corematch\" + \"w\" * 5000, \"corematch\"), # 19. Random insertion in large strings\n",
    "    (\"zzababc\", \"ababc\", \"ababc\"), # 20. Offset matching blocks\n",
    "    (\"abcde\", \"cdeab\", \"cde\"), # 21. Multiple small matches, longest chosen\n",
    "    (\"a\", \"a\", \"a\"), # 22. Single character strings (match)\n",
    "    (\"a\", \"b\", \"\"), # 23. Single character strings (no match)\n",
    "]\n",
    "\n",
    "def test_maximal_substring(tests):\n",
    "    for i, (a, b, expected) in enumerate(tests):\n",
    "        result = maximal_substring(a, b)\n",
    "        if result != expected:\n",
    "                print(colored(f\"Test case {i + 1} failed: got '{result}', expected '{expected}'\", 'red'))\n",
    "        else:\n",
    "            print(colored(f\"Test case {i + 1} passed!\", 'green'))\n",
    "\n",
    "test_maximal_substring(test_cases)"
   ]
  },
  {
   "cell_type": "markdown",
   "id": "399a2c9b-e3c2-45da-af92-4bccc040c850",
   "metadata": {},
   "source": [
    "#### **Test Table**\n",
    "| String A | String B | Expected Result | Expected Matches Actual |\n",
    "|:--:|:--:|:--:|:--:|\n",
    "| \"hello\" | \"hello\" | \"hello\" | ✔ |\n",
    "| \"\" | \"banana\" | \"\" | ✔ |\n",
    "| \"apple\" | \"\" | \"\" | ✔ |\n",
    "| \"\" | \"\" | \"\" | ✔ |\n",
    "| \"xyz\" | \"abc\" | \"\" | ✔ |\n",
    "| \"xayz\" | \"baz\" | \"a\" | ❌ |\n",
    "| \"hellothere\" | \"lo\" | \"lo\" | ✔ |\n",
    "| \"abc\" | \"zabcx\" | \"abc\" | ✔ |\n",
    "| \"abcabcabc\" | \"abcabc\" | \"abcabc\" | ✔ |\n",
    "| \"aabbaabb\" | \"bbaabbaa\" | \"aabbaa\" | ✔ |\n",
    "| \"💡✨🎉\" | \"🎉🔥💡\" | \"💡\" | ✔ |\n",
    "| \"🎈abc🎈\" | \"🎈abc\" | \"🎈abc\" | ✔ |\n",
    "| \"Hello\" | \"hello\" | \"ello\" | ❌ |\n",
    "| \"prefix_common_sub\" | \"prefix_common_end\" | \"prefix_common_\" | ✔ |\n",
    "| \"end_common\" | \"otherend_common\" | \"end_common\" | ✔ |\n",
    "| \"a*1000\" | \"a*1000\" | \"a*1000\" | ✔ |\n",
    "| \"x\\*2500\" + \"apple\" + \"y*2500\" | \"z\\*2500\" + \"apple\" + \"w*2500\" | \"apple\" | ❌ |\n",
    "| \"aaaaaaaaaa\" | \"aaaa\" | \"aaaa\" | ✔ |\n",
    "| \"x\\*5000\" + \"corematch\" + \"y*5000\" | \"z\\*5000\" + \"corematch\" + \"w*5000\" | \"corematch\" | ❌ |\n",
    "| \"zzababc\" | \"ababc\" | \"ababc\" | ✔ |\n",
    "| \"abcde\" | \"cdeab\" | \"cde\" | ✔ |\n",
    "| \"a\" | \"a\" | \"a\" | ✔ |\n",
    "| \"a\" | \"b\" | \"\" | ✔ |\n",
    "\n",
    "##### **Test Table Summary**\n",
    "The above table shows the tested string pairs, the expected longest common substring, and whether the result matched the expectation. A diverse set of test cases was used to ensure broad coverage. These include simple identical strings, cases with one or both strings empty, strings with no common characters, and variations in case sensitivity. More complex scenarios were also tested, such as partial overlaps, repeated patterns, Unicode characters, and very long inputs to evaluate the algorithm’s correctness and performance. While most tests passed successfully, a few cases produced partial matches instead of the full expected substring. These edge cases highlight the importance of how substring boundaries and comparisons are handled. Overall, the results show that the algorithm performs well across a wide range of input types and sizes."
   ]
  },
  {
   "cell_type": "code",
   "execution_count": null,
   "id": "cc98bbda-9efb-47f2-b7f5-0dea63d3a95b",
   "metadata": {},
   "outputs": [],
   "source": []
  }
 ],
 "metadata": {
  "kernelspec": {
   "display_name": "Python 3 (ipykernel)",
   "language": "python",
   "name": "python3"
  },
  "language_info": {
   "codemirror_mode": {
    "name": "ipython",
    "version": 3
   },
   "file_extension": ".py",
   "mimetype": "text/x-python",
   "name": "python",
   "nbconvert_exporter": "python",
   "pygments_lexer": "ipython3",
   "version": "3.12.9"
  }
 },
 "nbformat": 4,
 "nbformat_minor": 5
}
