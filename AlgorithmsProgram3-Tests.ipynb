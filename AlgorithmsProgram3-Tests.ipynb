{
 "cells": [
  {
   "cell_type": "raw",
   "id": "53ccda27",
   "metadata": {
    "vscode": {
     "languageId": "raw"
    }
   },
   "source": [
    "For this assignment, you will apply dynamic programming to create an algorithm that solves\n",
    "the maximal substring problem.\n",
    "\n",
    "The problem that you will be solving is called the MAXIMALSUBSTRING problem."
   ]
  },
  {
   "cell_type": "code",
   "execution_count": 1,
   "id": "bb3a18ee",
   "metadata": {
    "ExecuteTime": {
     "end_time": "2025-04-08T20:02:30.409398Z",
     "start_time": "2025-04-08T20:02:30.395717Z"
    }
   },
   "outputs": [],
   "source": [
    "def substring_helper(a, b, i, j, memo):\n",
    "    if i == len(a) or j == len(b):\n",
    "        return 0\n",
    "\n",
    "    if memo[i][j] != -1:\n",
    "        return memo[i][j]\n",
    "\n",
    "    if a[i] == b[j]:\n",
    "        memo[i][j] = 1 + substring_helper(a, b, i + 1, j + 1, memo)\n",
    "    else:\n",
    "        return 0\n",
    "\n",
    "    return memo[i][j]\n",
    "\n",
    "\n",
    "def maximal_substring(a, b):\n",
    "    n = len(a)\n",
    "    m = len(b)\n",
    "    memo = [[-1 for _ in range(m)] for _ in range(n)]\n",
    "    max_length = 0\n",
    "    start_index = 0\n",
    "\n",
    "    for i in range(0, n):\n",
    "        for j in range(0, m):\n",
    "            current_length = substring_helper(a, b, i, j, memo)\n",
    "            if current_length > max_length:\n",
    "                max_length = current_length\n",
    "                start_index = i\n",
    "\n",
    "    return a[start_index:start_index + max_length]\n"
   ]
  },
  {
   "cell_type": "markdown",
   "id": "b40456f9-c101-4654-888e-61d9a83710c7",
   "metadata": {},
   "source": [
    "#### **Tests**"
   ]
  },
  {
   "cell_type": "code",
   "execution_count": 3,
   "id": "b5219ba9-a038-49e9-8860-e035f8c78ec1",
   "metadata": {
    "ExecuteTime": {
     "end_time": "2025-04-08T20:04:37.065172Z",
     "start_time": "2025-04-08T20:04:03.765334Z"
    }
   },
   "outputs": [
    {
     "name": "stdout",
     "output_type": "stream",
     "text": [
      "\u001b[32mTest case 1 passed!\u001b[0m\n",
      "\u001b[32mTest case 2 passed!\u001b[0m\n",
      "\u001b[32mTest case 3 passed!\u001b[0m\n",
      "\u001b[32mTest case 4 passed!\u001b[0m\n",
      "\u001b[32mTest case 5 passed!\u001b[0m\n",
      "\u001b[32mTest case 6 passed!\u001b[0m\n",
      "\u001b[32mTest case 7 passed!\u001b[0m\n",
      "\u001b[32mTest case 8 passed!\u001b[0m\n",
      "\u001b[32mTest case 9 passed!\u001b[0m\n",
      "\u001b[32mTest case 10 passed!\u001b[0m\n",
      "\u001b[32mTest case 11 passed!\u001b[0m\n",
      "\u001b[32mTest case 12 passed!\u001b[0m\n",
      "\u001b[32mTest case 13 passed!\u001b[0m\n",
      "\u001b[32mTest case 14 passed!\u001b[0m\n",
      "\u001b[32mTest case 15 passed!\u001b[0m\n",
      "\u001b[32mTest case 16 passed!\u001b[0m\n",
      "\u001b[32mTest case 17 passed!\u001b[0m\n",
      "\u001b[32mTest case 18 passed!\u001b[0m\n",
      "\u001b[32mTest case 19 passed!\u001b[0m\n",
      "\u001b[32mTest case 20 passed!\u001b[0m\n",
      "\u001b[32mTest case 21 passed!\u001b[0m\n",
      "\u001b[32mTest case 22 passed!\u001b[0m\n",
      "\u001b[32mTest case 23 passed!\u001b[0m\n"
     ]
    }
   ],
   "source": [
    "from termcolor import colored\n",
    "\n",
    "test_cases = [\n",
    "    (\"hello\", \"hello\", \"hello\"), # 1. Simple identical strings\n",
    "    (\"\", \"banana\", \"\"), # 2. One empty string\n",
    "    (\"apple\", \"\", \"\"), # 3. One empty string (cont.)\n",
    "    (\"\", \"\", \"\"), # 4. Both strings empty \n",
    "    (\"xyz\", \"abc\", \"\"), # 5. No common characters\n",
    "    (\"xayz\", \"baz\", \"a\"), # 6. One-character match\n",
    "    (\"hellothere\", \"lo\", \"lo\"), # 7. Full overlap inside\n",
    "    (\"abc\", \"zabcx\", \"abc\"), # 8. Entire string as substring\n",
    "    (\"abcabcabc\", \"abcabc\", \"abcabc\"), # 9. Repeated patterns\n",
    "    (\"aabbaabb\", \"bbaabbaa\", \"aabbaa\"), # 10. Multiple common substrings, longest chosen\n",
    "    (\"💡✨🎉\", \"🎉🔥💡\", \"💡\"), # 11. Unicode characters\n",
    "    (\"🎈abc🎈\", \"🎈abc\", \"🎈abc\"), # 12. Unicode with alphabet\n",
    "    (\"Hello\", \"hello\", \"ello\"), # 13. Case sensitivity (eliminate test case possibly)\n",
    "    (\"prefix_common_sub\", \"prefix_common_end\", \"prefix_common_\"), # 14. Long common prefix\n",
    "    (\"end_common\", \"otherend_common\", \"end_common\"), # 15. Long common suffix\n",
    "    (\"a\" * 1000, \"a\" * 1000, \"a\" * 1000), # 16. Very large identical strings\n",
    "    (\"x\" * 2500 + \"apple\" + \"y\" * 2500, \"z\" * 2500 + \"apple\" + \"w\" * 2500, \"apple\"), # 17. Large strings, small common part\n",
    "    (\"aaaaaaaaaa\", \"aaaa\", \"aaaa\"), # 18. One character repeated\n",
    "    (\"x\" * 5000 + \"corematch\" + \"y\" * 5000, \"z\" * 5000 + \"corematch\" + \"w\" * 5000, \"corematch\"), # 19. Random insertion in large strings\n",
    "    (\"zzababc\", \"ababc\", \"ababc\"), # 20. Offset matching blocks\n",
    "    (\"abcde\", \"cdeab\", \"cde\"), # 21. Multiple small matches, longest chosen\n",
    "    (\"a\", \"a\", \"a\"), # 22. Single character strings (match)\n",
    "    (\"a\", \"b\", \"\"), # 23. Single character strings (no match)\n",
    "]\n",
    "\n",
    "def test_maximal_substring(tests):\n",
    "    for i, (a, b, expected) in enumerate(tests):\n",
    "        result = maximal_substring(a, b)\n",
    "        if result != expected:\n",
    "                print(colored(f\"Test case {i + 1} failed: got '{result}', expected '{expected}'\", 'red'))\n",
    "        else:\n",
    "            print(colored(f\"Test case {i + 1} passed!\", 'green'))\n",
    "\n",
    "test_maximal_substring(test_cases)"
   ]
  },
  {
   "cell_type": "markdown",
   "id": "399a2c9b-e3c2-45da-af92-4bccc040c850",
   "metadata": {},
   "source": [
    "#### **Test Table**\n",
    "| String A | String B | Expected Result | Actual Result | Expected Matches Actual |\n",
    "|:--:|:--:|:--:|:--:|:--:|\n",
    "| \"hello\" | \"hello\" | \"hello\" | \"hello\" | ✔ |\n",
    "| \"\" | \"banana\" | \"\" | \"\" | ✔ |\n",
    "| \"apple\" | \"\" | \"\" | \"\" | ✔ |\n",
    "| \"\" | \"\" | \"\" | \"\" | ✔ |\n",
    "| \"xyz\" | \"abc\" | \"\" | \"\" | ✔ |\n",
    "| \"xayz\" | \"baz\" | \"\" | \"\" | ✔ |\n",
    "| \"hellothere\" | \"lo\" | \"lo\" | \"lo\" | ✔ |\n",
    "| \"abc\" | \"zabcx\" | \"abc\" | \"abc\" | ✔ |\n",
    "| \"abcabcabc\" | \"abcabc\" | \"abcabc\" | \"abcabc\" | ✔ |\n",
    "| \"aabbaabb\" | \"bbaabbaa\" | \"aabbaa\" | \"aabbaa\" | ✔ |\n",
    "| \"💡✨🎉\" | \"🎉🔥💡\" | \"💡\" | \"💡\" | ✔ |\n",
    "| \"🎈abc🎈\" | \"🎈abc\" | \"🎈abc\" | \"🎈abc\" | ✔ |\n",
    "| \"Hello\" | \"hello\" | \"ello\" | \"ello\" | ✔ |\n",
    "| \"prefix_common_sub\" | \"prefix_common_end\" | \"prefix_common_\" | \"prefix_common_\" | ✔ |\n",
    "| \"end_common\" | \"otherend_common\" | \"end_common\" | \"end_common\" | ✔ |\n",
    "| \"a*1000\" | \"a*1000\" | \"a*1000\" | \"a*1000\" | ✔ |\n",
    "| \"x\\*2500\" + \"apple\" + \"y*2500\" | \"z\\*2500\" + \"apple\" + \"w*2500\" | \"apple\" | \"apple\" | ✔ |\n",
    "| \"aaaaaaaaaa\" | \"aaaa\" | \"aaaa\" | \"aaaa\" | ✔ |\n",
    "| \"x\\*5000\" + \"corematch\" + \"y*5000\" | \"z\\*5000\" + \"corematch\" + \"w*5000\" | \"corematch\" | \"corematch\" | ✔ |\n",
    "| \"zzababc\" | \"ababc\" | \"ababc\" | \"ababc\" | ✔ |\n",
    "| \"abcde\" | \"cdeab\" | \"cde\" | \"cde\" | ✔ |\n",
    "| \"a\" | \"a\" | \"a\" | \"a\" | ✔ |\n",
    "| \"a\" | \"b\" | \"\" | \"\" | ✔ |\n",
    "\n",
    "##### **Test Table Summary**\n",
    "The above table shows the tested string pairs, the expected and actual longest common substrings, and whether the result matched the expectation. A wide range of cases was included—identical strings, empty inputs, no overlap, case differences, Unicode, and long strings. All tests passed, highlighting our algorithms ability to find the correct expected outcome in many different edge cases. Overall, the algorithm performed well across varied inputs."
   ]
  }
 ],
 "metadata": {
  "kernelspec": {
   "display_name": "Python 3 (ipykernel)",
   "language": "python",
   "name": "python3"
  },
  "language_info": {
   "codemirror_mode": {
    "name": "ipython",
    "version": 3
   },
   "file_extension": ".py",
   "mimetype": "text/x-python",
   "name": "python",
   "nbconvert_exporter": "python",
   "pygments_lexer": "ipython3",
   "version": "3.12.6"
  }
 },
 "nbformat": 4,
 "nbformat_minor": 5
}
